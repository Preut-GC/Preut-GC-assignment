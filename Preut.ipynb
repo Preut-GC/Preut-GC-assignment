{
 "cells": [
  {
   "cell_type": "markdown",
   "id": "6518a506-be7c-4d33-8ea9-a048987ac8cd",
   "metadata": {
    "tags": []
   },
   "source": [
    "# My Jupyter Notebook on IBM Watson Studio"
   ]
  },
  {
   "cell_type": "markdown",
   "id": "185575d1-d710-4cd5-8dda-fed72d8ee2d7",
   "metadata": {
    "tags": []
   },
   "source": [
    "**PREUT T**"
   ]
  },
  {
   "cell_type": "markdown",
   "id": "0255a67e-e0f0-4562-a7fa-c8cbb4aef3b5",
   "metadata": {},
   "source": [
    "Process Control Engineer"
   ]
  },
  {
   "cell_type": "markdown",
   "id": "94fd7c17-45f1-424d-8c7c-bed69f185fe1",
   "metadata": {},
   "source": [
    "*I am interested din data science because i think it can help me to find*"
   ]
  },
  {
   "cell_type": "markdown",
   "id": "4c2a482c-469a-41d1-8fd9-4ffada041417",
   "metadata": {},
   "source": [
    "### A=2+2\n",
    "### print(A)"
   ]
  },
  {
   "cell_type": "code",
   "execution_count": 10,
   "id": "c0c24a05-d633-4942-953f-f5c2d564792a",
   "metadata": {},
   "outputs": [
    {
     "name": "stdout",
     "output_type": "stream",
     "text": [
      "4\n"
     ]
    }
   ],
   "source": [
    "A=2+2\n",
    "print(A)\n"
   ]
  },
  {
   "cell_type": "markdown",
   "id": "f9c6f86c-e386-446f-bc9c-f173df24aee1",
   "metadata": {},
   "source": [
    "List of Price and color\n",
    "***\n",
    "\n",
    "| No | Price($) | Color |\n",
    "| :---- | :------: | ------: |\n",
    "| 1 | 30 | blue |\n",
    "| 2 | 39 | red |\n",
    "\n",
    "[To find more detail](https://www.ibm.com/th-en?lnk=m)"
   ]
  },
  {
   "cell_type": "code",
   "execution_count": null,
   "id": "5b598426-b6f3-41a9-bfbf-d9f9450ab23d",
   "metadata": {},
   "outputs": [],
   "source": []
  },
  {
   "cell_type": "code",
   "execution_count": null,
   "id": "ede6b405-7513-4812-b569-c471c091c7cc",
   "metadata": {},
   "outputs": [],
   "source": []
  }
 ],
 "metadata": {
  "kernelspec": {
   "display_name": "Python",
   "language": "python",
   "name": "conda-env-python-py"
  },
  "language_info": {
   "codemirror_mode": {
    "name": "ipython",
    "version": 3
   },
   "file_extension": ".py",
   "mimetype": "text/x-python",
   "name": "python",
   "nbconvert_exporter": "python",
   "pygments_lexer": "ipython3",
   "version": "3.7.12"
  }
 },
 "nbformat": 4,
 "nbformat_minor": 5
}
